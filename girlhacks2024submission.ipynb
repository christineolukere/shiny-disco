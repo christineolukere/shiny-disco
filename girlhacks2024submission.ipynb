{
 "cells": [
  {
   "cell_type": "code",
   "execution_count": 2,
   "id": "e24ef5cd-db9c-4eb7-916f-180038a32a49",
   "metadata": {},
   "outputs": [
    {
     "name": "stdout",
     "output_type": "stream",
     "text": [
      "prompt        0\n",
      "completion    0\n",
      "dtype: int64\n"
     ]
    },
    {
     "name": "stdout",
     "output_type": "stream",
     "text": [
      "Recommendations based on donna summer:\n",
      "- In The Evening by Sheryl Lee Ralph\n",
      "- I Love The Nightlife (Disco 'Round) - \" by Alicia Bridges\n",
      "- Chains of Love by Erasure\n",
      "- I'm Every Woman by Chaka Khan\n",
      "- Mandy by Barry Manilow\n"
     ]
    }
   ],
   "source": [
    "import os\n",
    "import pandas as pd\n",
    "import spotipy\n",
    "from spotipy.oauth2 import SpotifyClientCredentials\n",
    "import openai\n",
    "import random\n",
    "from dotenv import load_dotenv\n",
    "\n",
    "# Load environment variables from a .env file (ensure to create a .env file with the credentials)\n",
    "load_dotenv()\n",
    "\n",
    "# Correctly retrieve the client_id and client_secret from environment variables\n",
    "client_id = os.getenv('4a4d67ad012b43bc88b2a7443d991244')  # Corrected\n",
    "client_secret = os.getenv('81f498748f844cc28f6a77efcc52668b')  # Corrected\n",
    "\n",
    "# Authenticate Spotify API\n",
    "sp = spotipy.Spotify(auth_manager=SpotifyClientCredentials(client_id='4a4d67ad012b43bc88b2a7443d991244', client_secret='81f498748f844cc28f6a77efcc52668b'))\n",
    "\n",
    "# Load song data from a CSV file\n",
    "df = pd.read_csv('/GrlHacks24/grl-hacks-sub/songscsv.csv')\n",
    "print(df.isnull().sum())\n",
    "df.drop_duplicates(inplace=True)\n",
    "\n",
    "# Function to get song recommendations from Spotify\n",
    "def get_song_recommendations(user_input):\n",
    "    try:\n",
    "        results = sp.search(q=user_input, type='track', limit=1)\n",
    "        if results['tracks']['items']:\n",
    "            track_id = results['tracks']['items'][0]['id']\n",
    "            recommendations = sp.recommendations(seed_tracks=[track_id], limit=5)\n",
    "            \n",
    "            print(f\"Recommendations based on {user_input}:\")\n",
    "            for track in recommendations['tracks']:\n",
    "                print(f\"- {track['name']} by {track['artists'][0]['name']}\")\n",
    "        else:\n",
    "            print(f\"Sorry, no results found for your input: {user_input}\")\n",
    "    except Exception as e:\n",
    "        print(f\"An error occurred: {str(e)}\")\n",
    "\n",
    "# Get dynamic user input for recommendations\n",
    "user_input = input(\"Enter a song or artist to get recommendations: \")\n",
    "get_song_recommendations(user_input)"
   ]
  },
  {
   "cell_type": "code",
   "execution_count": null,
   "id": "13181589-c2aa-45e9-ad79-648646c58a37",
   "metadata": {},
   "outputs": [],
   "source": []
  }
 ],
 "metadata": {
  "kernelspec": {
   "display_name": "grl-hack-gpt",
   "language": "python",
   "name": "grl-hack-gpt"
  },
  "language_info": {
   "codemirror_mode": {
    "name": "ipython",
    "version": 3
   },
   "file_extension": ".py",
   "mimetype": "text/x-python",
   "name": "python",
   "nbconvert_exporter": "python",
   "pygments_lexer": "ipython3",
   "version": "3.11.1"
  }
 },
 "nbformat": 4,
 "nbformat_minor": 5
}
